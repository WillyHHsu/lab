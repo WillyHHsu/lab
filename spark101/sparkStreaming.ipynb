{
 "cells": [
  {
   "cell_type": "code",
   "execution_count": null,
   "metadata": {},
   "outputs": [],
   "source": [
    "\"\"\"\n",
    "exemplo: use o sandbox da Horton\n",
    "\"\"\""
   ]
  },
  {
   "cell_type": "code",
   "execution_count": null,
   "metadata": {},
   "outputs": [],
   "source": [
    "from pyspark import SparkContext,SparkConf\n",
    "from pyspark.streaming import StreamingContext\n",
    "import findspark\n",
    "conf = (SparkConf()\n",
    "     .setMaster(\"local\")\n",
    "     .setAppName(\"testezao\")\n",
    "     .set(\"spark.executor.memory\", \"1g\"))\n",
    "\n",
    "sc = SparkContext()"
   ]
  },
  {
   "cell_type": "code",
   "execution_count": null,
   "metadata": {},
   "outputs": [],
   "source": []
  },
  {
   "cell_type": "code",
   "execution_count": null,
   "metadata": {},
   "outputs": [],
   "source": []
  },
  {
   "cell_type": "code",
   "execution_count": null,
   "metadata": {},
   "outputs": [],
   "source": [
    "from pyspark import SparkContext,SparkConf\n",
    "from pyspark.streaming import StreamingContext\n",
    "import findspark\n",
    "conf = (SparkConf()\n",
    "     .setMaster(\"local\")\n",
    "     .set(\"spark.executor.memory\", \"1g\"))\n",
    "\n",
    "sc = SparkContext(conf = conf)\n",
    "\n",
    "ssc = StreamingContext(sc, 5)\n",
    "path = \"file:///twitter/tweets/*\"\n",
    "tweets = ssc.textFileStream(path)\n",
    "a  = tweets.map(lambda x: json.loads(x['text']))\n",
    "a.toDF.writeStream.format(\"console\").outputMode(\"update\").start().awaitTermination()\n",
    "ssc.start()\n",
    "ssc.awaitTermination()"
   ]
  },
  {
   "cell_type": "code",
   "execution_count": null,
   "metadata": {},
   "outputs": [],
   "source": []
  },
  {
   "cell_type": "code",
   "execution_count": null,
   "metadata": {},
   "outputs": [],
   "source": []
  },
  {
   "cell_type": "code",
   "execution_count": null,
   "metadata": {},
   "outputs": [],
   "source": [
    "from pyspark import SparkContext\n",
    "from pyspark.streaming import StreamingContext\n",
    "\n",
    "ssc.stop()\n",
    "sc.stop()\n",
    "# Create a local StreamingContext with two working threads and a batch interval of 2 seconds\n",
    "sc = SparkContext(\"local[2]\", \"NetworkWordCount\")\n",
    "ssc = StreamingContext(sc, 10)\n",
    "\n",
    "# Create a DStream\n",
    "lines = ssc.socketTextStream(\"sandbox-hdp.hortonworks.com\", 3333)\n",
    "\n",
    "\n",
    "# Split each line into words\n",
    "words = lines.flatMap(lambda line: line.split(\" \"))\n",
    "\n",
    "# Count each word in each batch\n",
    "pairs = words.map(lambda word: (word, 1))\n",
    "wordCounts = pairs.reduceByKey(lambda x, y: x + y)\n",
    "\n",
    "# Print each batch\n",
    "wordCounts.pprint()\n",
    "  # Wait for the computation to terminate\n",
    "# Start the computation\n",
    "ssc.start()          \n",
    "ssc.awaitTermination()"
   ]
  },
  {
   "cell_type": "code",
   "execution_count": null,
   "metadata": {},
   "outputs": [],
   "source": []
  },
  {
   "cell_type": "code",
   "execution_count": null,
   "metadata": {},
   "outputs": [],
   "source": [
    "from pyspark.sql import SparkSession\n",
    "from pyspark.sql.functions import explode\n",
    "from pyspark.sql.functions import split\n",
    "import findspark\n",
    "\n",
    "spark = SparkSession.builder.appName(\"StructuredNetworkWordCount\").getOrCreate()\n",
    "\n",
    "schmaA=spark.read.format(\"json\").load(\"/home/jovyan/git/personal/lab/spark101/twitter/tweets/1110288120791093251.json\").schema"
   ]
  },
  {
   "cell_type": "code",
   "execution_count": null,
   "metadata": {},
   "outputs": [],
   "source": [
    "from pyspark.sql.types import StructType\n",
    "\n",
    "# userSchema = StructType().add(\"id\", \"integer\").add(\"text\", \"string\")\n",
    "df = spark.readStream.schema(userSchema).json('/home/jovyan/git/personal/lab/spark101/twitter/tweets/').schema\n",
    "df"
   ]
  },
  {
   "cell_type": "code",
   "execution_count": null,
   "metadata": {},
   "outputs": [],
   "source": [
    "from pyspark.sql import SparkSession\n",
    "from pyspark.sql.functions import explode\n",
    "from pyspark.sql.functions import split\n",
    "from pyspark.sql.types import StructType, StructField, StringType, LongType\n",
    "import findspark\n",
    "\n",
    "\n",
    "spark = SparkSession.builder.appName(\"StructuredNetworkWordCount\").getOrCreate()\n",
    "\n",
    "userSchema  = StructType([\n",
    "                        StructField(\"id\", LongType(), True),\n",
    "                        StructField(\"text\", StringType(), True),\n",
    "                        ])\n",
    "\n",
    "df = spark.readStream.schema(userSchema).json('/home/jovyan/git/personal/lab/spark101/twitter/tweets/')\n",
    "df.writeStream.format(\"json\").outputMode(\"append\").option(\"path\", \"path/to/destination/dir\")\n",
    "start().awaitTermination()"
   ]
  },
  {
   "cell_type": "code",
   "execution_count": null,
   "metadata": {},
   "outputs": [],
   "source": [
    "!tail twitter/final/final.txt\n",
    "/home/jovyan/git/personal/lab/spark101/twitter/final/final.txt"
   ]
  },
  {
   "cell_type": "code",
   "execution_count": null,
   "metadata": {},
   "outputs": [],
   "source": [
    "!python /home/jovyan/git/personal/lab/spark101/twitter/teste.py"
   ]
  },
  {
   "cell_type": "code",
   "execution_count": 53,
   "metadata": {},
   "outputs": [
    {
     "name": "stdout",
     "output_type": "stream",
     "text": [
      "2019-04-03 17:54:20 WARN  NativeCodeLoader:62 - Unable to load native-hadoop library for your platform... using builtin-java classes where applicable\n",
      "Setting default log level to \"WARN\".\n",
      "To adjust logging level use sc.setLogLevel(newLevel). For SparkR, use setLogLevel(newLevel).\n",
      "-------------------------------------------\n",
      "Time: 2019-04-03 17:54:30\n",
      "-------------------------------------------\n",
      "\n",
      "-------------------------------------------\n",
      "Time: 2019-04-03 17:54:40\n",
      "-------------------------------------------\n",
      "\n",
      "-------------------------------------------\n",
      "Time: 2019-04-03 17:54:50\n",
      "-------------------------------------------\n",
      "\n",
      "-------------------------------------------                                     \n",
      "Time: 2019-04-03 17:55:00\n",
      "-------------------------------------------\n",
      "{\"id\": 1113500043170988033, \"text\": \"RT @SandraRCReyes: L\\u00e9o \\u00cdndio, o primo espi\\u00e3o de Carlos Bolsonaro no Congresso, q n\\u00e3o tem cargo nenhum, mas circula livremente, tb deu entra\\u2026\"}\n",
      "{\"id\": 1113500078814236674, \"text\": \"RT @lucasdabandana: N\\u00e3o entendi... O Bolsonaro tem foto com um monte de miliciano e ningu\\u00e9m nunca o acusou. https://t.co/HQbYCoCDoY\"}\n",
      "{\"id\": 1113500019317932032, \"text\": \"RT @_SaraWinter: A visita de Bolsonaro a Israel representa uma nova era na diplomacia brasileira. Outrora, Lula visitava o t\\u00famulo do ex-pre\\u2026\"}\n",
      "{\"id\": 1113500074099793925, \"text\": \"RT @Bolsoneas: O Comando Vermelho odeia o Bolsonaro;\\nO terceiro comando odeia o Bolsonaro;\\nO PCC odeia o Bolsonaro;\\nO Hamas odeia o Bolsona\\u2026\"}\n",
      "{\"id\": 1113499996278673408, \"text\": \"RT @republica_ctba: Ao lado de Bolsonaro, Netanyahu convida Neymar e Medina para visitarem Israel e eles respondem: \\u201cEstamos indo\\u201d https://\\u2026\"}\n",
      "{\"id\": 1113499988351488001, \"text\": \"RT @CarinaCacilda: O que c\\u00eas t\\u00e3o esperando pra fazer Bolsonaro transar com um porco em rede nacional?\"}\n",
      "{\"id\": 1113500042621521922, \"text\": \"\\ud83d\\udc4d\\ud83c\\udffb #DaviAlcolumbreInimigoDoBrasil\"}\n",
      "{\"id\": 1113500012422619136, \"text\": \"RT @_SaraWinter: A esquerda gosta de insinuar que Bolsonaro possui pouca intelig\\u00eancia e m\\u00e1 forma\\u00e7\\u00e3o acad\\u00eamica (Bolsonaro integrou a Academi\\u2026\"}\n",
      "{\"id\": 1113499972736102402, \"text\": \"RT @_ustrafleury64: brasileiro antes do Bolsonaro: \\n- esse pa\\u00eds \\u00e9 uma merda, tem radar em todo lugar, s\\u00f3 colocam isso pra tirar dinheiro do\\u2026\"}\n",
      "{\"id\": 1113500086758268928, \"text\": \"Continuo sendo 100% Bolsonaro !!!\\n\\n#AEsquerdaPirou https://t.co/CAsk7kLjBA\"}\n",
      "...\n",
      "\n",
      "-------------------------------------------                                     \n",
      "Time: 2019-04-03 17:55:10\n",
      "-------------------------------------------\n",
      "\n",
      "-------------------------------------------\n",
      "Time: 2019-04-03 17:55:20\n",
      "-------------------------------------------\n",
      "\n",
      "-------------------------------------------\n",
      "Time: 2019-04-03 17:55:30\n",
      "-------------------------------------------\n",
      "{\"id\": 1113500215745679362, \"text\": \"RT @sandroeli2000: \\u00c9 uma maneira de combater o desemprego, se o cara morre e est\\u00e1 empregado, surge uma nova vaga, se est\\u00e1 desempregado ele\\u2026\"}\n",
      "{\"id\": 1113500215494021120, \"text\": \"RT @WAGSILMAR: O GOVERNO de GOI\\u00c1S se encontrando SEM DINHEIRO para CONSTRUIR uma PONTE para fazer o ESCOAMENTO de PRODUTOS AGRICOLAS, fez u\\u2026\"}\n",
      "{\"id\": 1113500141787516929, \"text\": \"RT @JoelAlexandreM: A conta do Dom @TheGodFather_75 citada na mat\\u00e9ria do jornal O Globo foi derrubada pelo twitter. A m\\u00eddia faz a lista de\\u2026\"}\n",
      "{\"id\": 1113500194878914560, \"text\": \"RT @AliciaCastroAR: Vamos recordando lo que no nos gusta de Massa: - El peinadito- La Voz- La incoherencia- Otros detalles: banc\\u00f3 a los bui\\u2026\"}\n",
      "{\"id\": 1113500107238969353, \"text\": \"A reforma da Previd\\u00eancia de Bolsonaro vai dificultar pedidos de aposentadoria especial dos trabalhadores rurais, pr\\u2026 https://t.co/UQtqmITFoS\"}\n",
      "{\"id\": 1113500166198321152, \"text\": \"RT @Estadao: Bolsonaro publica foto com arma em Israel defendendo armamento da popula\\u00e7\\u00e3o https://t.co/TvQJOX8iTC\"}\n",
      "{\"id\": 1113500209261080576, \"text\": \"RT @hospicio_brasil: Sorte tem a Bruna Marquezine, que largou esse container sem al\\u00e7a.\\nhttps://t.co/u8IwzgsUyI\"}\n",
      "{\"id\": 1113500167964065793, \"text\": \"RT @lucasdabandana: N\\u00e3o entendi... O Bolsonaro tem foto com um monte de miliciano e ningu\\u00e9m nunca o acusou. https://t.co/HQbYCoCDoY\"}\n",
      "{\"id\": 1113500110137307136, \"text\": \"RT @cinefilo_K: Bolsonaro foi CONDENADO por declarar q negros quilombolas \\\"n\\u00e3o servem pra nada, nem para procriar\\\".\\ndisse tbm q os filhos n\\u2026\"}\n",
      "{\"id\": 1113500160607256577, \"text\": \"RT @RMafei: Em 2017, Olavo de Carvalho, \\\"professor\\\" de Bolsonaro e \\\"intelectual inating\\u00edvel\\\", chamou Alex Jones de \\\"melhor fonte de informa\\u2026\"}\n",
      "...\n",
      "\n",
      "-------------------------------------------                                     \n",
      "Time: 2019-04-03 17:55:40\n",
      "-------------------------------------------\n",
      "\n",
      "-------------------------------------------\n",
      "Time: 2019-04-03 17:55:50\n",
      "-------------------------------------------\n",
      "\n",
      "-------------------------------------------\n",
      "Time: 2019-04-03 17:56:00\n",
      "-------------------------------------------\n",
      "{\"id\": 1113500243910385665, \"text\": \"RT @samiabomfim: Paulo Guedes destemperado na CCJ nesse momento. Diante dos protestos dos deputados, provoca dizendo \\\"falem mais alto que e\\u2026\"}\n",
      "{\"id\": 1113500226898231296, \"text\": \"RT @CarlaZambelli17: \\\"Crises\\\" do governo Bolsonaro: \\nBebbiano\\nGolden Shower \\nImprensa\\n1964\\n\\nPreju\\u00edzo aos cofres publicos: 0\\n\\nNos governos a\\u2026\"}\n",
      "{\"id\": 1113500322985594880, \"text\": \"RT @CarlaZambelli17: \\\"Crises\\\" do governo Bolsonaro: \\nBebbiano\\nGolden Shower \\nImprensa\\n1964\\n\\nPreju\\u00edzo aos cofres publicos: 0\\n\\nNos governos a\\u2026\"}\n",
      "{\"id\": 1113500235001737216, \"text\": \"RT @lucasdabandana: N\\u00e3o entendi... O Bolsonaro tem foto com um monte de miliciano e ningu\\u00e9m nunca o acusou. https://t.co/HQbYCoCDoY\"}\n",
      "{\"id\": 1113500226088841222, \"text\": \"RT @edmilsonpapo10: Tarso Genro jurando que nao sabia que Cesare Battisti era terrorista, no mesmo momento que o PT defende os ataques do H\\u2026\"}\n",
      "{\"id\": 1113500271618023431, \"text\": \"RT @DonSergiones: Que falta de vergonha. E depois dizia que era o PT que fazia doutrina\\u00e7\\u00e3o porca.\\n#HamasVoteiNoHaddad\\n\\nEscola p\\u00fablica de Gu\\u2026\"}\n",
      "{\"id\": 1113500302219649024, \"text\": \"RT @zehdeabreu: O bispo que quer matar Caetano Veloso com rem\\u00e9dio de rato. No Brasil de Bolsonaro, Deus virou assassino. https://t.co/Ey62D\\u2026\"}\n",
      "{\"id\": 1113500293789093889, \"text\": \"RT @CarlaZambelli17: \\\"Crises\\\" do governo Bolsonaro: \\nBebbiano\\nGolden Shower \\nImprensa\\n1964\\n\\nPreju\\u00edzo aos cofres publicos: 0\\n\\nNos governos a\\u2026\"}\n",
      "{\"id\": 1113500313712046080, \"text\": \"RT @Glauber_Braga: Bolsonaro corta R$ 2,13 bi da Ci\\u00eancia e Tecnologia e n\\u00e3o garante o pagamento das bolsas do CNPq. Associado ao corte de R\\u2026\"}\n",
      "{\"id\": 1113500308599189504, \"text\": \"RT @macsanto787: Senta no milho, joga pedra na Caravana do LULA, idiota.! \\nL\\u00edder ruralista diz que n\\u00e3o d\\u00e1 mais para apoiar Bolsonaro: 'Cheg\\u2026\"}\n",
      "...\n",
      "\n",
      "-------------------------------------------                                     \n",
      "Time: 2019-04-03 17:56:10\n",
      "-------------------------------------------\n",
      "\n",
      "^C\n",
      "Traceback (most recent call last):\n",
      "  File \"/home/jovyan/git/personal/lab/spark101/twitter/teste_sparkcontext.py\", line 32, in <module>\n",
      "    ssc.awaitTermination()\n",
      "  File \"/usr/local/spark/python/pyspark/streaming/context.py\", line 192, in awaitTermination\n",
      "    self._jssc.awaitTermination()\n",
      "  File \"/usr/local/spark/python/lib/py4j-0.10.7-src.zip/py4j/java_gateway.py\", line 1255, in __call__\n",
      "  File \"/usr/local/spark/python/lib/py4j-0.10.7-src.zip/py4j/java_gateway.py\", line 985, in send_command\n",
      "  File \"/usr/local/spark/python/lib/py4j-0.10.7-src.zip/py4j/java_gateway.py\", line 1152, in send_command\n",
      "  File \"/opt/conda/lib/python3.7/socket.py\", line 589, in readinto\n",
      "    return self._sock.recv_into(b)\n",
      "  File \"/usr/local/spark/python/pyspark/context.py\", line 252, in signal_handler\n",
      "    raise KeyboardInterrupt()\n",
      "KeyboardInterrupt\n"
     ]
    }
   ],
   "source": [
    "!python /home/jovyan/git/personal/lab/spark101/twitter/teste_sparkcontext.py"
   ]
  },
  {
   "cell_type": "code",
   "execution_count": null,
   "metadata": {},
   "outputs": [],
   "source": []
  }
 ],
 "metadata": {
  "kernelspec": {
   "display_name": "Python 3",
   "language": "python",
   "name": "python3"
  },
  "language_info": {
   "codemirror_mode": {
    "name": "ipython",
    "version": 3
   },
   "file_extension": ".py",
   "mimetype": "text/x-python",
   "name": "python",
   "nbconvert_exporter": "python",
   "pygments_lexer": "ipython3",
   "version": "3.7.1"
  }
 },
 "nbformat": 4,
 "nbformat_minor": 2
}
