{
 "cells": [
  {
   "cell_type": "markdown",
   "metadata": {},
   "source": [
    "# Introdução à algoritimos genéticos - Next"
   ]
  },
  {
   "cell_type": "markdown",
   "metadata": {},
   "source": [
    "- Aqui será apresentado o código para o curso de introdução à algoritmos genéticos. \n",
    "\n",
    "- O caso de estudo será desenvolver um algortimo genético para encontrar a frase <b>\"Ser ou não ser, eis a questão \"</b>.\n",
    "\n",
    "- Será apresentado inicialmente um código para encontrar a frase através através de uma busca aleatória. \n",
    "\n",
    "- Após isso, será implementado o algoritmo genético para realizar a mesma tarefa. "
   ]
  },
  {
   "cell_type": "markdown",
   "metadata": {},
   "source": [
    "### 1.0 Importando as bibliotecas"
   ]
  },
  {
   "cell_type": "code",
   "execution_count": 10,
   "metadata": {},
   "outputs": [],
   "source": [
    "#---IMPORTANDO AS BIBLIOTECAS E MÓDULOS\n",
    "\n",
    "#-Biblioteca random\n",
    "import random\n",
    "#-Blioteca String\n",
    "import string\n",
    "#-Biblioteca time\n",
    "import time\n",
    "\n"
   ]
  },
  {
   "cell_type": "markdown",
   "metadata": {},
   "source": [
    "### 2.0 Definindo o objetivo da busca"
   ]
  },
  {
   "cell_type": "code",
   "execution_count": 16,
   "metadata": {},
   "outputs": [],
   "source": [
    "#Definir o objetivo que queremos encontrar\n",
    "objetivo = 'SER OU NAO SER, EIS A QUESTAO'\n",
    "\n",
    "#Transformar o Objetivo em uma lista\n",
    "objetivo = list('SER OU NAO SER, EIS A QUESTAO')"
   ]
  },
  {
   "cell_type": "code",
   "execution_count": 18,
   "metadata": {},
   "outputs": [
    {
     "name": "stdout",
     "output_type": "stream",
     "text": [
      "['S', 'E', 'R', ' ', 'O', 'U', ' ', 'N', 'A', 'O', ' ', 'S', 'E', 'R', ',', ' ', 'E', 'I', 'S', ' ', 'A', ' ', 'Q', 'U', 'E', 'S', 'T', 'A', 'O']\n"
     ]
    }
   ],
   "source": [
    "print(objetivo)"
   ]
  },
  {
   "cell_type": "markdown",
   "metadata": {},
   "source": [
    "### 3.0 Definindo o domínio de Busca"
   ]
  },
  {
   "cell_type": "code",
   "execution_count": 19,
   "metadata": {},
   "outputs": [
    {
     "data": {
      "text/plain": [
       "'ABCDEFGHIJKLMNOPQRSTUVWXYZ'"
      ]
     },
     "execution_count": 19,
     "metadata": {},
     "output_type": "execute_result"
    }
   ],
   "source": [
    "#---CONSTRUINDO O DOMÍNIO DE BUSCA (LISTA DE LETRAS EXISTENTES)\n",
    "dominio = string.ascii_uppercase\n",
    "dominio"
   ]
  },
  {
   "cell_type": "code",
   "execution_count": 20,
   "metadata": {},
   "outputs": [],
   "source": [
    "#-Inserindo o espaço e virgula no domínio\n",
    "dominio += ' '\n",
    "dominio += ','"
   ]
  },
  {
   "cell_type": "code",
   "execution_count": 23,
   "metadata": {},
   "outputs": [],
   "source": [
    "#---TRANSFORMANDO EM UMA LISTA O DOMÍNIO DE BUSCA\n",
    "dominio = list(dominio)"
   ]
  },
  {
   "cell_type": "code",
   "execution_count": 24,
   "metadata": {},
   "outputs": [
    {
     "name": "stdout",
     "output_type": "stream",
     "text": [
      "['A', 'B', 'C', 'D', 'E', 'F', 'G', 'H', 'I', 'J', 'K', 'L', 'M', 'N', 'O', 'P', 'Q', 'R', 'S', 'T', 'U', 'V', 'W', 'X', 'Y', 'Z', ' ', ',']\n"
     ]
    }
   ],
   "source": [
    "print(dominio)"
   ]
  },
  {
   "cell_type": "markdown",
   "metadata": {},
   "source": [
    "#### Exemplo de um indíviduo "
   ]
  },
  {
   "cell_type": "code",
   "execution_count": 30,
   "metadata": {},
   "outputs": [],
   "source": [
    "#---GERANDO UM INDIVIDUO ESCOLHENDO AS LETRAS ALEATORIAMENTE COM REPOSIÇÃO\n",
    "individuo = random.choices(dominio, k = len(objetivo))"
   ]
  },
  {
   "cell_type": "markdown",
   "metadata": {},
   "source": [
    "### 4.0 Construção da População"
   ]
  },
  {
   "cell_type": "code",
   "execution_count": 51,
   "metadata": {},
   "outputs": [],
   "source": [
    "#---FUNÇÃO QUE GERA UMA POPUÇÃO\n",
    "def gera_pop(tamanho_populacao, Objetivo, dominio):\n",
    "    pop = []\n",
    "    for cont in range(tamanho_populacao):\n",
    "        individuo = random.choices(dominio, k = len(objetivo))\n",
    "        pop.append(individuo)\n",
    "        \n",
    "    return pop\n",
    "\n"
   ]
  },
  {
   "cell_type": "markdown",
   "metadata": {},
   "source": [
    "### 5.0 Calculo do Fitness"
   ]
  },
  {
   "cell_type": "code",
   "execution_count": 38,
   "metadata": {},
   "outputs": [],
   "source": [
    "#---FUNÇão QUE CONPUTA A O FITNESS DOS INDIVIUDUOS DE UMA POPULAÇÃO\n",
    "\n",
    "def fitness(pop, Objetivo):\n",
    "    fit = []\n",
    "    for cont1 in pop:\n",
    "        pontuacao = 0\n",
    "        for  cont2, cont3 in zip(cont1, Objetivo):\n",
    "            if cont3 == cont2:\n",
    "                pontuacao += 1\n",
    "                \n",
    "        fit.append(pontuacao)\n",
    "            \n",
    "    return fit"
   ]
  },
  {
   "cell_type": "markdown",
   "metadata": {},
   "source": [
    "### 6.0 Mostrar melhor resposta"
   ]
  },
  {
   "cell_type": "code",
   "execution_count": 56,
   "metadata": {},
   "outputs": [],
   "source": [
    "#---CONSTRUIR UMA FUNÇÃO QUE MOSTRA A MELHOR RESPOSTA\n",
    "def apresentacao(max_id):\n",
    "    \n",
    "    melhor = ''\n",
    "    for cont in max_ind:\n",
    "        melhor += cont\n",
    "    \n",
    "    return melhor"
   ]
  },
  {
   "cell_type": "markdown",
   "metadata": {},
   "source": [
    "## 7.0 Busca aleatória "
   ]
  },
  {
   "cell_type": "markdown",
   "metadata": {},
   "source": [
    "#####   Características da população e do procedimento de busca aleatória"
   ]
  },
  {
   "cell_type": "code",
   "execution_count": 32,
   "metadata": {},
   "outputs": [],
   "source": [
    "tamanho_populacao = 50\n"
   ]
  },
  {
   "cell_type": "markdown",
   "metadata": {},
   "source": [
    "##### Definindo Funcao para gerar uma população"
   ]
  },
  {
   "cell_type": "code",
   "execution_count": 52,
   "metadata": {},
   "outputs": [],
   "source": [
    "pop_teste = gera_pop(tamanho_populacao=tamanho_populacao,Objetivo= objetivo , dominio = dominio)"
   ]
  },
  {
   "cell_type": "markdown",
   "metadata": {},
   "source": [
    "##### Funcao para calculo do fitness"
   ]
  },
  {
   "cell_type": "code",
   "execution_count": 53,
   "metadata": {},
   "outputs": [
    {
     "ename": "TypeError",
     "evalue": "fitness() missing 1 required positional argument: 'Objetivo'",
     "output_type": "error",
     "traceback": [
      "\u001b[1;31m---------------------------------------------------------------------------\u001b[0m",
      "\u001b[1;31mTypeError\u001b[0m                                 Traceback (most recent call last)",
      "\u001b[1;32m<ipython-input-53-3972e93d8638>\u001b[0m in \u001b[0;36m<module>\u001b[1;34m\u001b[0m\n\u001b[0;32m      1\u001b[0m \u001b[1;31m#---OBTENDO O FITNESS DA POPULAÇÃO TESTE\u001b[0m\u001b[1;33m\u001b[0m\u001b[1;33m\u001b[0m\u001b[1;33m\u001b[0m\u001b[0m\n\u001b[1;32m----> 2\u001b[1;33m \u001b[0mfit\u001b[0m \u001b[1;33m=\u001b[0m  \u001b[0mfitness\u001b[0m\u001b[1;33m(\u001b[0m\u001b[0mpop_teste\u001b[0m\u001b[1;33m)\u001b[0m\u001b[1;33m\u001b[0m\u001b[1;33m\u001b[0m\u001b[0m\n\u001b[0m",
      "\u001b[1;31mTypeError\u001b[0m: fitness() missing 1 required positional argument: 'Objetivo'"
     ]
    }
   ],
   "source": [
    "#---OBTENDO O FITNESS DA POPULAÇÃO TESTE\n",
    "fit =  fitness(pop_teste)"
   ]
  },
  {
   "cell_type": "markdown",
   "metadata": {},
   "source": [
    "##### Achar o maior fitness"
   ]
  },
  {
   "cell_type": "code",
   "execution_count": 40,
   "metadata": {},
   "outputs": [
    {
     "ename": "NameError",
     "evalue": "name 'fit' is not defined",
     "output_type": "error",
     "traceback": [
      "\u001b[1;31m---------------------------------------------------------------------------\u001b[0m",
      "\u001b[1;31mNameError\u001b[0m                                 Traceback (most recent call last)",
      "\u001b[1;32m<ipython-input-40-9e127580869c>\u001b[0m in \u001b[0;36m<module>\u001b[1;34m\u001b[0m\n\u001b[0;32m      1\u001b[0m \u001b[1;31m#---OBTER O FITNESS MAXIMO\u001b[0m\u001b[1;33m\u001b[0m\u001b[1;33m\u001b[0m\u001b[1;33m\u001b[0m\u001b[0m\n\u001b[1;32m----> 2\u001b[1;33m \u001b[0mfit\u001b[0m\u001b[1;33m.\u001b[0m\u001b[0mindex\u001b[0m\u001b[1;33m(\u001b[0m\u001b[0mmax\u001b[0m\u001b[1;33m(\u001b[0m\u001b[0mfit\u001b[0m\u001b[1;33m)\u001b[0m\u001b[1;33m)\u001b[0m\u001b[1;33m\u001b[0m\u001b[1;33m\u001b[0m\u001b[0m\n\u001b[0m",
      "\u001b[1;31mNameError\u001b[0m: name 'fit' is not defined"
     ]
    }
   ],
   "source": [
    "#---OBTER O FITNESS MAXIMO\n",
    "fit.index(max(fit))"
   ]
  },
  {
   "cell_type": "markdown",
   "metadata": {},
   "source": [
    "##### CHAMANDO A FUNÇÃO PARA MOSTRAR A MELHOR SOLUÇÃO"
   ]
  },
  {
   "cell_type": "code",
   "execution_count": null,
   "metadata": {},
   "outputs": [],
   "source": []
  },
  {
   "cell_type": "markdown",
   "metadata": {},
   "source": [
    "# -----------------------------------------------------------------------------------------"
   ]
  },
  {
   "cell_type": "markdown",
   "metadata": {},
   "source": [
    "## 8.0 Realizando busca aletória"
   ]
  },
  {
   "cell_type": "code",
   "execution_count": 55,
   "metadata": {
    "scrolled": true
   },
   "outputs": [
    {
     "ename": "NameError",
     "evalue": "name 'max_ind' is not defined",
     "output_type": "error",
     "traceback": [
      "\u001b[1;31m---------------------------------------------------------------------------\u001b[0m",
      "\u001b[1;31mNameError\u001b[0m                                 Traceback (most recent call last)",
      "\u001b[1;32m<ipython-input-55-93aa92bf9f39>\u001b[0m in \u001b[0;36m<module>\u001b[1;34m\u001b[0m\n\u001b[0;32m     16\u001b[0m     \u001b[0mmelhor_ind\u001b[0m \u001b[1;33m=\u001b[0m \u001b[0mpop\u001b[0m\u001b[1;33m[\u001b[0m\u001b[0mmelhor_fit_indice\u001b[0m\u001b[1;33m]\u001b[0m\u001b[1;33m\u001b[0m\u001b[1;33m\u001b[0m\u001b[0m\n\u001b[0;32m     17\u001b[0m \u001b[1;33m\u001b[0m\u001b[0m\n\u001b[1;32m---> 18\u001b[1;33m     \u001b[0mmelhor_seq\u001b[0m \u001b[1;33m=\u001b[0m \u001b[0mapresentacao\u001b[0m\u001b[1;33m(\u001b[0m\u001b[0mmelhor_ind\u001b[0m\u001b[1;33m)\u001b[0m\u001b[1;33m\u001b[0m\u001b[1;33m\u001b[0m\u001b[0m\n\u001b[0m",
      "\u001b[1;32m<ipython-input-46-597568e4870f>\u001b[0m in \u001b[0;36mapresentacao\u001b[1;34m(max_id)\u001b[0m\n\u001b[0;32m      2\u001b[0m \u001b[1;32mdef\u001b[0m \u001b[0mapresentacao\u001b[0m\u001b[1;33m(\u001b[0m\u001b[0mmax_id\u001b[0m\u001b[1;33m)\u001b[0m\u001b[1;33m:\u001b[0m\u001b[1;33m\u001b[0m\u001b[1;33m\u001b[0m\u001b[0m\n\u001b[0;32m      3\u001b[0m     \u001b[0mmelhor\u001b[0m \u001b[1;33m=\u001b[0m \u001b[1;34m''\u001b[0m\u001b[1;33m\u001b[0m\u001b[1;33m\u001b[0m\u001b[0m\n\u001b[1;32m----> 4\u001b[1;33m     \u001b[1;32mfor\u001b[0m \u001b[0mcont\u001b[0m \u001b[1;32min\u001b[0m \u001b[0mmax_ind\u001b[0m\u001b[1;33m:\u001b[0m\u001b[1;33m\u001b[0m\u001b[1;33m\u001b[0m\u001b[0m\n\u001b[0m\u001b[0;32m      5\u001b[0m         \u001b[0mmelhor\u001b[0m \u001b[1;33m+=\u001b[0m \u001b[0mcont\u001b[0m\u001b[1;33m\u001b[0m\u001b[1;33m\u001b[0m\u001b[0m\n\u001b[0;32m      6\u001b[0m \u001b[1;33m\u001b[0m\u001b[0m\n",
      "\u001b[1;31mNameError\u001b[0m: name 'max_ind' is not defined"
     ]
    }
   ],
   "source": [
    "#---Inicializando a população\n",
    "pop = []\n",
    "\n",
    "\n",
    "#--Inicializando o fitness\n",
    "fit = []\n",
    "geracoes = 200\n",
    "\n",
    "\n",
    "for cont in range(geracoes):\n",
    "    pop = gera_pop(tamanho_populacao, objetivo, dominio)\n",
    "    fit = fitness(pop, objetivo)\n",
    "    melhor_fit_indice = fit.index(max(fit))\n",
    "    melhor_ind = pop[melhor_fit_indice]\n",
    "    melhor_seq = apresentacao(melhor_ind)"
   ]
  },
  {
   "cell_type": "markdown",
   "metadata": {},
   "source": [
    "## Encontrar a frase através de um algoritmo genético"
   ]
  },
  {
   "cell_type": "markdown",
   "metadata": {},
   "source": [
    "### 9.0 Seleção dos indivíduos"
   ]
  },
  {
   "cell_type": "code",
   "execution_count": 13,
   "metadata": {},
   "outputs": [],
   "source": [
    "#---FUNÇÃO DE SELEÇÃO DOS INDIVÍDUOS por torneio\n",
    "\n"
   ]
  },
  {
   "cell_type": "markdown",
   "metadata": {},
   "source": [
    "### 10.0 Função para realizar o Crossing-Over"
   ]
  },
  {
   "cell_type": "code",
   "execution_count": null,
   "metadata": {},
   "outputs": [],
   "source": []
  },
  {
   "cell_type": "markdown",
   "metadata": {},
   "source": [
    "### 11.0 Função para realizar Mutação"
   ]
  },
  {
   "cell_type": "code",
   "execution_count": null,
   "metadata": {},
   "outputs": [],
   "source": []
  },
  {
   "cell_type": "markdown",
   "metadata": {},
   "source": [
    "## 12.0 Busca pelo algoritmo genético"
   ]
  },
  {
   "cell_type": "markdown",
   "metadata": {},
   "source": [
    "#####   Características da população e do procedimento de busca aleatória"
   ]
  },
  {
   "cell_type": "code",
   "execution_count": 14,
   "metadata": {},
   "outputs": [],
   "source": [
    "#---DEFININDO CARACTERISTICAS DA POPULAÇÃO \n",
    "\n",
    "\n",
    "#---Definindo as propriendades da seleção\n",
    "\n",
    "\n",
    "\n",
    "#---Definindo parametros da mutação\n",
    "\n"
   ]
  },
  {
   "cell_type": "markdown",
   "metadata": {},
   "source": [
    "# -----------------------------------------------------------------------------------------"
   ]
  },
  {
   "cell_type": "markdown",
   "metadata": {},
   "source": [
    "## 13.0 Realizando a busca por um algoritmo genético"
   ]
  },
  {
   "cell_type": "code",
   "execution_count": 15,
   "metadata": {
    "scrolled": true
   },
   "outputs": [],
   "source": [
    "#---Inicializando a população\n",
    "\n",
    "\n",
    "#--Contabilizando o fitness da população\n",
    "\n",
    "\n",
    "#--Obter o melhor fitness\n",
    "\n",
    "\n",
    "#--Mostrar o melhor resultados\n",
    "\n",
    "\n",
    "#--Mostrando o melhor resultados\n",
    "\n",
    "\n",
    "\n"
   ]
  }
 ],
 "metadata": {
  "kernelspec": {
   "display_name": "Python 3",
   "language": "python",
   "name": "python3"
  },
  "language_info": {
   "codemirror_mode": {
    "name": "ipython",
    "version": 3
   },
   "file_extension": ".py",
   "mimetype": "text/x-python",
   "name": "python",
   "nbconvert_exporter": "python",
   "pygments_lexer": "ipython3",
   "version": "3.7.4"
  }
 },
 "nbformat": 4,
 "nbformat_minor": 2
}
